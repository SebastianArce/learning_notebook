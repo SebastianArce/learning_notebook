{
 "cells": [
  {
   "cell_type": "markdown",
   "metadata": {},
   "source": [
    "# Recursion\n",
    "\n",
    "## What is Recursion?\n",
    "A recursive function solves a particular problem by calling a copy of itself and solving smaller subproblems of the original problems. \n",
    "\n",
    "## Need of Recursion\n",
    "Recursion is an amazing technique with the help of which we can reduce the length of our code and make it easier to read and write. A task that can be defined with its similar subtask, recursion is one of the best solutions for it. \n",
    "* For example, the factorial of a number.\n",
    "\n",
    "## Properties of Recursion:\n",
    "* Performing the same operations multiple times with different inputs.\n",
    "* In every step, we try smaller inputs to make the problem smaller. \n",
    "* Base condition is needed to stop the recursion otherwise infinite loop will occur.\n",
    "\n",
    "## Algorithm Steps\n",
    "* Step 1 - Define a base case: \n",
    "    * Identify the simplest case for which the solution is known or trivial. This is the stopping condition for the recursion, as it prevents the function from infinitely calling itself. \n",
    "* Step 2 - Define a recursive case: \n",
    "    * Define the problem in terms of smaller subproblems. Break the problem down into smaller versions of itself, and call the function recursively to solve each subproblem. \n",
    "* Step 3 - Ensure the recursion terminates: \n",
    "    *  Make sure that the recursive function eventually reaches the base case, and does not enter an infinite loop. \n",
    "* Step 4 - Combine the solutions: \n",
    "    * Combine the solutions of the subproblems to solve the original problem. \n",
    "\n",
    "## Memory\n",
    "Recursion uses more memory, because the recursive function adds to the stack with each recursive call, and keeps the values there untl the call is finished. The recursive functions uses LIFO (LAST IN FIRST OUT) structure just like the stack data structure."
   ]
  },
  {
   "cell_type": "markdown",
   "metadata": {},
   "source": []
  }
 ],
 "metadata": {
  "language_info": {
   "name": "python"
  },
  "orig_nbformat": 4
 },
 "nbformat": 4,
 "nbformat_minor": 2
}
