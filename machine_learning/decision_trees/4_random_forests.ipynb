{
 "cells": [
  {
   "attachments": {},
   "cell_type": "markdown",
   "metadata": {},
   "source": [
    "# Random Forests (RF)\n",
    "**Definition**:\n",
    "- Base estimator: Decision Tree\n",
    "- Each estimator is trained on a different bootstrrap sample having the same size as the training set. \n",
    "- RF introduces further randomization in the training of individual trees\n",
    "\n",
    "![title](https://drive.google.com/uc?export=view&id=1r5FGL17FR5IHOm8RAArXXJWl2NWGIQHF)\n",
    "\n",
    "**Feature Importance**:\n",
    "- Tree-based methods: enable measuring the importance of each feature in prediction. \n",
    "    - how much the tree nodes use a particular feature to reduce impurity"
   ]
  },
  {
   "cell_type": "code",
   "execution_count": 5,
   "metadata": {},
   "outputs": [
    {
     "name": "stdout",
     "output_type": "stream",
     "text": [
      "Test set RMSE: 3.7603781331419897\n"
     ]
    }
   ],
   "source": [
    "import pandas as pd \n",
    "\n",
    "from sklearn.ensemble import RandomForestRegressor\n",
    "from sklearn.model_selection import train_test_split\n",
    "from sklearn.metrics import mean_squared_error as MSE \n",
    "\n",
    "# Import data\n",
    "file1 = 'https://raw.githubusercontent.com/prince381/car_mpg_predict/master/cars1.csv'\n",
    "file2 = 'https://raw.githubusercontent.com/prince381/car_mpg_predict/master/cars2.csv'\n",
    "cars1 = pd.read_csv(file1).dropna(how='all', axis=1)\n",
    "cars2 = pd.read_csv(file2)  \n",
    "df = pd.concat([cars1, cars2], ignore_index=True, sort=False)\n",
    "\n",
    "# Split data\n",
    "seed = 1\n",
    "X = df[['displacement']].to_numpy().reshape(-1, 1)\n",
    "y = df['mpg'].to_numpy()\n",
    "X_train, X_test, y_train, y_test = train_test_split(X, y, test_size=0.3, random_state=seed)\n",
    "\n",
    "# Instantiate and train model\n",
    "rf = RandomForestRegressor(n_estimators=400, min_samples_leaf=0.12, random_state=seed)\n",
    "rf.fit(X_train, y_train)\n",
    "y_pred = rf.predict(X_test)\n",
    "\n",
    "# Evaluate the model\n",
    "rmse_test = MSE(y_test, y_pred) ** (1/2)\n",
    "print(f\"Test set RMSE: {rmse_test}\")"
   ]
  },
  {
   "cell_type": "code",
   "execution_count": null,
   "metadata": {},
   "outputs": [],
   "source": []
  }
 ],
 "metadata": {
  "kernelspec": {
   "display_name": "aphrodite",
   "language": "python",
   "name": "python3"
  },
  "language_info": {
   "codemirror_mode": {
    "name": "ipython",
    "version": 3
   },
   "file_extension": ".py",
   "mimetype": "text/x-python",
   "name": "python",
   "nbconvert_exporter": "python",
   "pygments_lexer": "ipython3",
   "version": "3.7.10"
  },
  "orig_nbformat": 4
 },
 "nbformat": 4,
 "nbformat_minor": 2
}
