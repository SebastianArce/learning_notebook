{
 "cells": [
  {
   "cell_type": "markdown",
   "metadata": {},
   "source": [
    "# Hierarchical clustering\n",
    "\n",
    "**Disadvantage**: Slow with large data sets. Big O squared for time complexity."
   ]
  },
  {
   "cell_type": "markdown",
   "metadata": {},
   "source": [
    "1. Create a distance matrix using linkage\n",
    "    - Methods:\n",
    "        - single, complete, average, centroid, median, ward"
   ]
  },
  {
   "cell_type": "code",
   "execution_count": null,
   "metadata": {},
   "outputs": [],
   "source": [
    "import scipy\n",
    "\n",
    "distance_matrix = scipy.cluster.hierarchy.linkage(observations,\n",
    "                                method='single',\n",
    "                                metric='euclidean',\n",
    "                                optimal_ordering=False)"
   ]
  },
  {
   "cell_type": "markdown",
   "metadata": {},
   "source": [
    "2. Create cluster labels with fcluster\n",
    "    - distance_matrix: output of linkage() method\n",
    "    - num_clusters: number of clusters\n",
    "    - criterion: how to decide thresholds to form clustes"
   ]
  },
  {
   "cell_type": "code",
   "execution_count": null,
   "metadata": {},
   "outputs": [],
   "source": [
    "scipy.cluster.hierarchy.fcluster(distance_matrix,\n",
    "                                 num_clusters,\n",
    "                                 criterion)"
   ]
  },
  {
   "cell_type": "markdown",
   "metadata": {},
   "source": [
    "3. Visualize clusters"
   ]
  },
  {
   "cell_type": "code",
   "execution_count": null,
   "metadata": {},
   "outputs": [],
   "source": [
    "import matplotlib.pyplot as plt\n",
    "import pandas as pd\n",
    "\n",
    "df = pd.DataFrame()"
   ]
  },
  {
   "cell_type": "markdown",
   "metadata": {},
   "source": [
    "4. How many clusters? - Dendograms\n",
    "    - Strategy untill now - decide clusters on visual inspection\n",
    "    - Dendograms help in showing pregressions as clusters are merged\n",
    "    - A dendogram is a branching diagram that demonstrates how each cluster is composed by branching out into its child nodes"
   ]
  },
  {
   "cell_type": "markdown",
   "metadata": {},
   "source": []
  }
 ],
 "metadata": {
  "language_info": {
   "name": "python"
  },
  "orig_nbformat": 4
 },
 "nbformat": 4,
 "nbformat_minor": 2
}
