{
 "cells": [
  {
   "cell_type": "markdown",
   "metadata": {},
   "source": [
    "# Extreme Gradient Boosting with XGBoost\n",
    "### Definition\n",
    "* Boosting converts a collection of weak learners into a strong learner. \n",
    "    * **weak learner**: ML algorithm that is slightly better than chance (>50%)\n",
    "\n",
    "### How it works\n",
    "1. Iteratively learning a set of weak models on subsets of the data\n",
    "2. Weighing each weak prediction according to each weak learner's performance\n",
    "3. Combine the weighted predictinons to obtain a single weighted prediction \n",
    "4. ... that is much better than the individual predictions themselves! \n",
    "\n",
    "### Advantages\n",
    "* Speed and performance\n",
    "* Core algorithm is parallelizable (good for big data)\n",
    "* **Consistently outperforms single-algorithm methods**\n",
    "* State-of-the-art performance in many ML tasks\n",
    "\n",
    "### Cross-validation\n",
    "* Is a robust method for estimating the performance of a model on unseen data\n",
    "* Generates many non-overlapping train/test splits on training  data\n",
    "* Reports the average test set performance across all data splits\n",
    "\n",
    "\n"
   ]
  },
  {
   "cell_type": "code",
   "execution_count": 2,
   "metadata": {},
   "outputs": [],
   "source": [
    "import xgboost as xgb\n",
    "import pandas as pd\n",
    "import numpy as np\n",
    "from sklearn.model_selection import train_test_split"
   ]
  },
  {
   "cell_type": "code",
   "execution_count": null,
   "metadata": {},
   "outputs": [],
   "source": [
    "# Import xgboost\n",
    "import xgboost as xgb\n",
    "\n",
    "# Create arrays for the features and the target: X, y\n",
    "X, y = churn_data.iloc[:,:-1], churn_data.iloc[:,-1]\n",
    "\n",
    "# Create the training and test sets\n",
    "X_train, X_test, y_train, y_test= train_test_split(X, y, test_size=0.2, random_state=123)\n",
    "\n",
    "# Instantiate the XGBClassifier: xg_cl\n",
    "xg_cl = xgb.XGBClassifier(objective='binary:logistic', n_estimators=10, seed=123)\n",
    "\n",
    "# Fit the classifier to the training set\n",
    "xg_cl.fit(X_train, y_train)\n",
    "\n",
    "# Predict the labels of the test set: preds\n",
    "preds = xg_cl.predict(X_test)\n",
    "\n",
    "# Compute the accuracy: accuracy\n",
    "accuracy = float(np.sum(preds==y_test))/y_test.shape[0]\n",
    "print(\"accuracy: %f\" % (accuracy))"
   ]
  }
 ],
 "metadata": {
  "kernelspec": {
   "display_name": "aphrodite",
   "language": "python",
   "name": "python3"
  },
  "language_info": {
   "codemirror_mode": {
    "name": "ipython",
    "version": 3
   },
   "file_extension": ".py",
   "mimetype": "text/x-python",
   "name": "python",
   "nbconvert_exporter": "python",
   "pygments_lexer": "ipython3",
   "version": "3.7.10"
  },
  "orig_nbformat": 4
 },
 "nbformat": 4,
 "nbformat_minor": 2
}
