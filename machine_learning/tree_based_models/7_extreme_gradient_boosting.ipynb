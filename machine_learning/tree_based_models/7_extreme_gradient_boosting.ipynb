{
 "cells": [
  {
   "cell_type": "markdown",
   "metadata": {},
   "source": [
    "# Extreme Gradient Boosting with XGBoost\n",
    "### Definition\n",
    "* Boosting converts a collection of weak learners into a strong learner. \n",
    "    * **weak learner**: ML algorithm that is slightly better than chance (>50%)\n",
    "\n",
    "### How it works\n",
    "1. Iteratively learning a set of weak models on subsets of the data\n",
    "2. Weighing each weak prediction according to each weak learner's performance\n",
    "3. Combine the weighted predictinons to obtain a single weighted prediction \n",
    "4. ... that is much better than the individual predictions themselves! \n",
    "\n",
    "### Advantages\n",
    "* Speed and performance\n",
    "* Core algorithm is parallelizable (good for big data)\n",
    "* **Consistently outperforms single-algorithm methods**\n",
    "* State-of-the-art performance in many ML tasks\n",
    "\n",
    "### Cross-validation\n",
    "* Is a robust method for estimating the performance of a model on unseen data\n",
    "* Generates many non-overlapping train/test splits on training  data\n",
    "* Reports the average test set performance across all data splits\n",
    "\n",
    "### Common loss functions in XGBoost\n",
    "* Loss function names in xgboost:\n",
    "    *reg:linear - use for regression problems\n",
    "    *reg:logistic - use for classification problem when you want just decision, not probability\n",
    "    *binary:logistic - use when you want probability rather than just decision\n",
    "\n",
    "### Base learners\n",
    "* XGBoost involves creating a meta-model that is composed of many individual models that combine to give a final prediction\n",
    "    * Individual models = base learners\n",
    "    * Want base learners that when combined create final prediction that is non-linear\n",
    "    * Each base learner should be good at distinguishing or predicting different parts of the dataset\n",
    "    * Two kinds of base learners:\n",
    "        * tree\n",
    "        * linear\n",
    "\n",
    "\n",
    "### When to use XGBoost\n",
    "* You have a large number of training samples\n",
    "    * Greater than 1000 training samples and less 100 features\n",
    "    * The number of features < number of training samples\n",
    "* You have a mixture of categorical and numeric features\n",
    "    * Or just numeric features\n",
    "\n",
    "### When to NOT use XGBoost\n",
    "* All of these problems can be better tackled by Deep Learning\n",
    "    * Image recognition\n",
    "    * Computer vision\n",
    "    * NLP\n",
    "* Small datasets\n",
    "\n",
    "\n"
   ]
  },
  {
   "cell_type": "code",
   "execution_count": 2,
   "metadata": {},
   "outputs": [],
   "source": [
    "import xgboost as xgb\n",
    "import pandas as pd\n",
    "import numpy as np\n",
    "from sklearn.model_selection import train_test_split"
   ]
  },
  {
   "cell_type": "markdown",
   "metadata": {},
   "source": [
    "## Classification: Simple workflow"
   ]
  },
  {
   "cell_type": "code",
   "execution_count": null,
   "metadata": {},
   "outputs": [],
   "source": [
    "# Import xgboost\n",
    "import xgboost as xgb\n",
    "\n",
    "# Create arrays for the features and the target: X, y\n",
    "X, y = churn_data.iloc[:,:-1], churn_data.iloc[:,-1]\n",
    "\n",
    "# Create the training and test sets\n",
    "X_train, X_test, y_train, y_test= train_test_split(X, y, test_size=0.2, random_state=123)\n",
    "\n",
    "# Instantiate the XGBClassifier: xg_cl\n",
    "xg_cl = xgb.XGBClassifier(objective='binary:logistic', n_estimators=10, seed=123)\n",
    "\n",
    "# Fit the classifier to the training set\n",
    "xg_cl.fit(X_train, y_train)\n",
    "\n",
    "# Predict the labels of the test set: preds\n",
    "preds = xg_cl.predict(X_test)\n",
    "\n",
    "# Compute the accuracy: accuracy\n",
    "accuracy = float(np.sum(preds==y_test))/y_test.shape[0]\n",
    "print(\"accuracy: %f\" % (accuracy))"
   ]
  },
  {
   "cell_type": "markdown",
   "metadata": {},
   "source": [
    "## Classification: Workflow with crossvalidation\n",
    "- XGBoost gets its lauded performance and efficiency gains by utilizing its own optimized data structure for datasets called a DMatrix.\n",
    "- In the previous exercise the input datasets were converted into DMatric data on the fly, but when CV you have to first explicitly convert your data into a DMatrix"
   ]
  },
  {
   "cell_type": "code",
   "execution_count": null,
   "metadata": {},
   "outputs": [],
   "source": [
    "# Create arrays for the features and the target: X, y\n",
    "X, y = churn_data.iloc[:,:-1], churn_data.iloc[:,-1]\n",
    "\n",
    "# Create the DMatrix from X and y: churn_dmatrix\n",
    "churn_dmatrix = xgb.DMatrix(data=X, label=y)\n",
    "\n",
    "# Create the parameter dictionary: params\n",
    "params = {\"objective\":\"reg:logistic\", \"max_depth\":3}\n",
    "\n",
    "# Perform cross-validation: cv_results\n",
    "cv_results = xgb.cv(dtrain=churn_dmatrix, params=params, \n",
    "                  nfold=3, num_boost_round=5, \n",
    "                  metrics=\"error\", # auc\n",
    "                  as_pandas=True, seed=123)\n",
    "\n",
    "# Print cv_results\n",
    "print(cv_results)\n",
    "\n",
    "# Print the accuracy\n",
    "print(((1-cv_results[\"test-error-mean\"]).iloc[-1]))"
   ]
  },
  {
   "cell_type": "markdown",
   "metadata": {},
   "source": [
    "cv_results stores the training and test mean and standard deviation of the error per boosting round (tree built) as a DataFrame. From cv_results, the final round 'test-error-mean' is extracted and converted into an accuracy, where accuracy is 1-error"
   ]
  },
  {
   "cell_type": "markdown",
   "metadata": {},
   "source": [
    "### Regression: Common workflow"
   ]
  },
  {
   "cell_type": "code",
   "execution_count": null,
   "metadata": {},
   "outputs": [],
   "source": [
    "# Create the training and test sets\n",
    "X_train, X_test, y_train, y_test = train_test_split(X, y, test_size=0.2, random_state=123)\n",
    "\n",
    "# Instantiate the XGBRegressor: xg_reg\n",
    "xg_reg = xgb.XGBRegressor(seed=123, objective='reg:linear', n_estimators=10)\n",
    "\n",
    "# Fit the regressor to the training set\n",
    "xg_reg.fit(X_train, y_train)\n",
    "\n",
    "# Predict the labels of the test set: preds\n",
    "preds = xg_reg.predict(X_test)\n",
    "\n",
    "# Compute the rmse: rmse\n",
    "rmse = np.sqrt(mean_squared_error(preds, y_test))\n",
    "print(\"RMSE: %f\" % (rmse))"
   ]
  },
  {
   "cell_type": "markdown",
   "metadata": {},
   "source": []
  }
 ],
 "metadata": {
  "kernelspec": {
   "display_name": "aphrodite",
   "language": "python",
   "name": "python3"
  },
  "language_info": {
   "codemirror_mode": {
    "name": "ipython",
    "version": 3
   },
   "file_extension": ".py",
   "mimetype": "text/x-python",
   "name": "python",
   "nbconvert_exporter": "python",
   "pygments_lexer": "ipython3",
   "version": "3.7.10"
  },
  "orig_nbformat": 4
 },
 "nbformat": 4,
 "nbformat_minor": 2
}
