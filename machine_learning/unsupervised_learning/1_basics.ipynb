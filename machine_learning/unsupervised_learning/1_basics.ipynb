{
 "cells": [
  {
   "cell_type": "markdown",
   "metadata": {},
   "source": [
    "# Unsupervised learning \n",
    "- A group of machine learning algorithms that find patterns in data\n",
    "- To do clustering:\n",
    "    - A group of items with similar characteristics. \n",
    "        - Google news with similar words\n",
    "        - Customer segmentation\n",
    "## Algorithms: \n",
    "- Hierarchical clustering\n",
    "- K means clustering"
   ]
  },
  {
   "cell_type": "code",
   "execution_count": null,
   "metadata": {},
   "outputs": [],
   "source": [
    "'example'"
   ]
  }
 ],
 "metadata": {
  "language_info": {
   "name": "python"
  },
  "orig_nbformat": 4
 },
 "nbformat": 4,
 "nbformat_minor": 2
}
