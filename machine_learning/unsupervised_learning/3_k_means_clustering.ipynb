{
 "cells": [
  {
   "cell_type": "markdown",
   "metadata": {},
   "source": [
    "# K-Means clustering\n",
    " \n",
    "- K means runs significantly faster on large datasets compared to hierarchical clustering\n",
    "\n",
    "## Steps:\n",
    "1. Generate cluster centers\n",
    "    - kmeans(obs, k_or_guess, iter, thresh, check_finite)\n",
    "    - Parameters:\n",
    "        - obs: standardized observations\n",
    "        - k_or_guess: number of clusters\n",
    "        - iter: number of iterations\n",
    "        - thres: threshold\n",
    "        - check_finite: whether to check if observations contain only finite numbers. \n",
    "    - Returns:\n",
    "        - cluster centers\n",
    "        - distortion: sum of squares of distances of points from cluster center\n",
    "2. Generate cluster labels\n",
    "    - vq(osb, code_book, check_finite=True)\n",
    "    - Parameters:\n",
    "        - same as previous one\n",
    "        - code_book: output of step 1\n",
    "    - Returns: \n",
    "        - a LIST of all the distortions\n",
    "\n",
    "## How many clusters?\n",
    "- Elbow method (graph, with number of clusters in the x axis, and distortion in the y axis)\n",
    "    - Ideal point is where the distortion stops declining strongly - 'the elbow' \n",
    "\n",
    "## Limitations\n",
    "- How to find the right number of clusters (K)\n",
    "- Impact of seeds\n",
    "- Biased towards equal sized clusters\n",
    "\n",
    "## Important note\n",
    "- Remember that clustering is part of the EDA - so it is ok to have errors in this phase. "
   ]
  },
  {
   "cell_type": "code",
   "execution_count": null,
   "metadata": {},
   "outputs": [],
   "source": [
    "from scipy.cluster.vq import kmeans, vq \n",
    "\n",
    "# Generate cluster centers and labels\n",
    "cluster_centers, _ = kmeans(df[['scaled_x', 'scaled_y']], 3)\n",
    "df['cluster_labels'], _ = vq(df[['scaled_x', 'scaled_y']], cluster_centers)\n",
    "\n",
    "# Plot clusters\n",
    "sns.scatterplot(x='scaled_x', y='scaled_y', hue='cluster_labels', data=df)\n",
    "plt.show()"
   ]
  },
  {
   "cell_type": "markdown",
   "metadata": {},
   "source": [
    "### Elbow method"
   ]
  },
  {
   "cell_type": "code",
   "execution_count": null,
   "metadata": {},
   "outputs": [],
   "source": [
    "distortions = []\n",
    "num_clusters = range(1, 7)\n",
    "\n",
    "# Create a list of distortions from the kmeans function\n",
    "for i in num_clusters:\n",
    "    cluster_centers, distortion = kmeans(comic_con[['x_scaled', 'y_scaled']], i)\n",
    "    distortions.append(distortion)\n",
    "\n",
    "# Create a DataFrame with two lists - num_clusters, distortions\n",
    "elbow_plot = pd.DataFrame({'num_clusters': num_clusters, 'distortions': distortions})\n",
    "\n",
    "# Creat a line plot of num_clusters and distortions\n",
    "sns.lineplot(x='num_clusters', y='distortions', data = elbow_plot)\n",
    "plt.xticks(num_clusters)\n",
    "plt.show()"
   ]
  }
 ],
 "metadata": {
  "language_info": {
   "name": "python"
  },
  "orig_nbformat": 4
 },
 "nbformat": 4,
 "nbformat_minor": 2
}
