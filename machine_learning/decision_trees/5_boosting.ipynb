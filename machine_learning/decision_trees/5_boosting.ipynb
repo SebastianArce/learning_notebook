{
 "cells": [
  {
   "attachments": {},
   "cell_type": "markdown",
   "metadata": {},
   "source": [
    "# Boosting\n",
    "**Definition**:\n",
    "- Boosting refers to an ensemble method in which several models are trained sequentially with each model learning from the errors of its predecessors. \n",
    "- **Weak learner**: model doing slightly better than random guessing (example a CART whose maximum depth is 1)\n",
    "\n",
    "**Types**:\n",
    "- AdaBoost: \n",
    "    - Adaptive Boosting, each predictor pays more attention to the instances wrongly predicted by its predecessor. \n",
    "    - Achieved by changing the weights of training instances.\n",
    "    - Each predictor is assigned a coefficient alpha.\n",
    "    - Alpha depends on the predictor's training error. \n",
    "- Gradient Boosting:\n",
    "![title](https://drive.google.com/uc?export=view&id=1nIJIe5xsAAoE2SR5VqET0HBzhMjxvZsu)\n"
   ]
  },
  {
   "cell_type": "code",
   "execution_count": null,
   "metadata": {},
   "outputs": [],
   "source": []
  }
 ],
 "metadata": {
  "language_info": {
   "name": "python"
  },
  "orig_nbformat": 4
 },
 "nbformat": 4,
 "nbformat_minor": 2
}
