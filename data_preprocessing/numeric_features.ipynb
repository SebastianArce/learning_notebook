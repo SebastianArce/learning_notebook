{
 "cells": [
  {
   "cell_type": "markdown",
   "metadata": {},
   "source": [
    "# Numeric Features Preprocessing\n",
    "### Scaling\n",
    "Normalizing numeric features so they're on the same scale prevents features with large values from producing coefficients thay disproportionately affect the predictions. For example:\n",
    "- A: 3\n",
    "- B: 480\n",
    "- C: 65\n",
    "<br></br>\n",
    "Can be converted to: \n",
    "- A: 0.3\n",
    "- B: 0.48\n",
    "- C: 0.65\n",
    "<br></br>\n",
    "If A contains values from 0 to 10, B values from 0 to 1000, and C values from 0 to 100.\n",
    "\n",
    "**Techniques**:\n",
    "- **Normalization (Min-Max Scaling)**: is used to transform features to be on a similar scale. \n",
    "    - This scales the range to [0, 1] or sometimes [-1, 1].\n",
    "    - Useful when there are no outliers as it cannot cope up with them. \n",
    "    - MinMaxScaler\n",
    "- **Standardization (Z-Score Normalization)**: is the transformation of features by subtracting from mean and dividing by standard deviation.\n",
    "    - Not bounded to a certain range\n",
    "    - Useful where the data follows a Gaussian distribution. \n",
    "    - StandardScaler"
   ]
  },
  {
   "cell_type": "markdown",
   "metadata": {},
   "source": []
  },
  {
   "cell_type": "code",
   "execution_count": 1,
   "metadata": {},
   "outputs": [
    {
     "name": "stdout",
     "output_type": "stream",
     "text": [
      "[1, 2, 3, 1, 2, 3, 1, 2, 3]\n",
      "[3 6 9]\n"
     ]
    }
   ],
   "source": [
    "import numpy as np\n",
    "\n",
    "lst = [1, 2, 3]\n",
    "array = np.array(lst)\n",
    "\n",
    "print(lst * 3)\n",
    "print(array * 3)"
   ]
  },
  {
   "cell_type": "code",
   "execution_count": 2,
   "metadata": {},
   "outputs": [
    {
     "data": {
      "text/plain": [
       "(3,)"
      ]
     },
     "execution_count": 2,
     "metadata": {},
     "output_type": "execute_result"
    }
   ],
   "source": [
    "array.shape"
   ]
  },
  {
   "cell_type": "code",
   "execution_count": 11,
   "metadata": {},
   "outputs": [
    {
     "data": {
      "text/plain": [
       "(2, 5)"
      ]
     },
     "execution_count": 11,
     "metadata": {},
     "output_type": "execute_result"
    }
   ],
   "source": [
    "np.array([[1,2,3,4,5],[6,7,8,9,10]]).shape"
   ]
  },
  {
   "cell_type": "code",
   "execution_count": null,
   "metadata": {},
   "outputs": [],
   "source": []
  }
 ],
 "metadata": {
  "kernelspec": {
   "display_name": "Python 3",
   "language": "python",
   "name": "python3"
  },
  "language_info": {
   "codemirror_mode": {
    "name": "ipython",
    "version": 3
   },
   "file_extension": ".py",
   "mimetype": "text/x-python",
   "name": "python",
   "nbconvert_exporter": "python",
   "pygments_lexer": "ipython3",
   "version": "3.11.4"
  },
  "orig_nbformat": 4
 },
 "nbformat": 4,
 "nbformat_minor": 2
}
