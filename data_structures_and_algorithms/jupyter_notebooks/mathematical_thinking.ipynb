{
 "cells": [
  {
   "cell_type": "code",
   "execution_count": 5,
   "metadata": {},
   "outputs": [
    {
     "name": "stdout",
     "output_type": "stream",
     "text": [
      "421\n",
      "841\n"
     ]
    }
   ],
   "source": [
    "goal = 6\n",
    "for i in range(100, 1000):\n",
    "    n = 0\n",
    "    for x in [2,3,4,5,6,7]:\n",
    "        if i % x == 1:\n",
    "            n += 1\n",
    "    if n == goal:\n",
    "        print(i)"
   ]
  },
  {
   "cell_type": "code",
   "execution_count": 12,
   "metadata": {},
   "outputs": [
    {
     "name": "stdout",
     "output_type": "stream",
     "text": [
      "59\n"
     ]
    }
   ],
   "source": [
    "for i in range(1,101):\n",
    "    if i % 3 == 2 and i % 4 == 3 and i % 5 == 4:\n",
    "        print(i)"
   ]
  },
  {
   "cell_type": "code",
   "execution_count": 24,
   "metadata": {},
   "outputs": [
    {
     "name": "stdout",
     "output_type": "stream",
     "text": [
      "41\n"
     ]
    }
   ],
   "source": [
    "n = 0\n",
    "lst = []\n",
    "cards_left = list(range(10, 100))\n",
    "for i in range(10, 100):\n",
    "    # n += 1\n",
    "    # for x in lst:\n",
    "    #     if i + x == 100:\n",
    "    #         print(n)\n",
    "    # lst.append(i)\n",
    "\n",
    "    if 100 - i in cards_left and 100 -1 != i:\n",
    "        n += 1\n",
    "        cards_left.remove(i)\n",
    "        if 100 -i in cards_left:\n",
    "            cards_left.remove(100-i)\n",
    "print(n)"
   ]
  },
  {
   "cell_type": "code",
   "execution_count": 18,
   "metadata": {},
   "outputs": [
    {
     "data": {
      "text/plain": [
       "90"
      ]
     },
     "execution_count": 18,
     "metadata": {},
     "output_type": "execute_result"
    }
   ],
   "source": [
    "n"
   ]
  },
  {
   "cell_type": "code",
   "execution_count": 19,
   "metadata": {},
   "outputs": [
    {
     "data": {
      "text/plain": [
       "0"
      ]
     },
     "execution_count": 19,
     "metadata": {},
     "output_type": "execute_result"
    }
   ],
   "source": [
    "len(lst)"
   ]
  },
  {
   "cell_type": "markdown",
   "metadata": {},
   "source": [
    "## N Queens - Brute Force"
   ]
  },
  {
   "cell_type": "code",
   "execution_count": 1,
   "metadata": {},
   "outputs": [
    {
     "name": "stdout",
     "output_type": "stream",
     "text": [
      "True\n",
      "False\n"
     ]
    }
   ],
   "source": [
    "import itertools as it \n",
    "\n",
    "def is_solution(perm: list):\n",
    "    ''' \n",
    "    For each possible combination of 2 values in the list argument, we compare the difference\n",
    "    between the x axis (indexes) and the y axis (value in the list given by the index pos).\n",
    "\n",
    "    Returns true if solution is feasible. \n",
    "    '''\n",
    "    # print()\n",
    "    # print(perm)\n",
    "    for (i1, i2) in it.combinations(range(len(perm)), 2):\n",
    "        # print(i1, i2, '|',perm[i1], perm[i2])\n",
    "        if abs(i1 - i2) == abs(perm[i1] - perm[i2]):\n",
    "            return False\n",
    "    return True\n",
    "\n",
    "print(is_solution([1, 3, 0 ,2]))\n",
    "print(is_solution([3, 1, 0 ,2]))"
   ]
  },
  {
   "cell_type": "code",
   "execution_count": 32,
   "metadata": {},
   "outputs": [
    {
     "name": "stdout",
     "output_type": "stream",
     "text": [
      "(0, 1)\n",
      "(0, 2)\n",
      "(0, 3)\n",
      "(1, 2)\n",
      "(1, 3)\n",
      "(2, 3)\n"
     ]
    }
   ],
   "source": [
    "perm = [1, 3, 0 ,2]\n",
    "perm = [3, 1, 0 ,2]\n",
    "for x in it.combinations(range(len(perm)), 2):\n",
    "    print(x)"
   ]
  },
  {
   "cell_type": "code",
   "execution_count": 7,
   "metadata": {},
   "outputs": [
    {
     "name": "stdout",
     "output_type": "stream",
     "text": [
      "92\n"
     ]
    }
   ],
   "source": [
    "n_solutions = 0\n",
    "for perm in it.permutations(range(8)):\n",
    "    if is_solution(perm):\n",
    "        n_solutions += 1\n",
    "print(n_solutions)"
   ]
  },
  {
   "cell_type": "markdown",
   "metadata": {},
   "source": [
    "## N Queens - Backtracking"
   ]
  },
  {
   "cell_type": "code",
   "execution_count": 3,
   "metadata": {},
   "outputs": [
    {
     "name": "stdout",
     "output_type": "stream",
     "text": [
      "[0, 1, 2, 3]\n",
      "[0, 1, 3, 2]\n",
      "[0, 2, 1, 3]\n",
      "[0, 2, 3, 1]\n",
      "[0, 3, 1, 2]\n",
      "[0, 3, 2, 1]\n",
      "[1, 0, 2, 3]\n",
      "[1, 0, 3, 2]\n",
      "[1, 2, 0, 3]\n",
      "[1, 2, 3, 0]\n",
      "[1, 3, 0, 2]\n",
      "[1, 3, 2, 0]\n",
      "[2, 0, 1, 3]\n",
      "[2, 0, 3, 1]\n",
      "[2, 1, 0, 3]\n",
      "[2, 1, 3, 0]\n",
      "[2, 3, 0, 1]\n",
      "[2, 3, 1, 0]\n",
      "[3, 0, 1, 2]\n",
      "[3, 0, 2, 1]\n",
      "[3, 1, 0, 2]\n",
      "[3, 1, 2, 0]\n",
      "[3, 2, 0, 1]\n",
      "[3, 2, 1, 0]\n"
     ]
    }
   ],
   "source": [
    "# Generating all permutations\n",
    "def generate_permutations(perm, n):\n",
    "    if len(perm) == n:\n",
    "        print(perm)\n",
    "        # print()\n",
    "        return None\n",
    "\n",
    "    for k in range(n):\n",
    "        # print(k)\n",
    "        if k not in perm:\n",
    "            perm.append(k)\n",
    "            # print(perm)\n",
    "            generate_permutations(perm, n)\n",
    "            perm.pop()\n",
    "\n",
    "generate_permutations(perm = [], n = 4)"
   ]
  },
  {
   "cell_type": "code",
   "execution_count": 13,
   "metadata": {},
   "outputs": [
    {
     "name": "stdout",
     "output_type": "stream",
     "text": [
      "[0, 4, 7, 5, 2, 6, 1, 3]\n",
      "1\n",
      "[0, 5, 7, 2, 6, 3, 1, 4]\n",
      "2\n",
      "[0, 6, 3, 5, 7, 1, 4, 2]\n",
      "3\n",
      "[0, 6, 4, 7, 1, 3, 5, 2]\n",
      "4\n",
      "[1, 3, 5, 7, 2, 0, 6, 4]\n",
      "5\n",
      "[1, 4, 6, 0, 2, 7, 5, 3]\n",
      "6\n",
      "[1, 4, 6, 3, 0, 7, 5, 2]\n",
      "7\n",
      "[1, 5, 0, 6, 3, 7, 2, 4]\n",
      "8\n",
      "[1, 5, 7, 2, 0, 3, 6, 4]\n",
      "9\n",
      "[1, 6, 2, 5, 7, 4, 0, 3]\n",
      "10\n",
      "[1, 6, 4, 7, 0, 3, 5, 2]\n",
      "11\n",
      "[1, 7, 5, 0, 2, 4, 6, 3]\n",
      "12\n",
      "[2, 0, 6, 4, 7, 1, 3, 5]\n",
      "13\n",
      "[2, 4, 1, 7, 0, 6, 3, 5]\n",
      "14\n",
      "[2, 4, 1, 7, 5, 3, 6, 0]\n",
      "15\n",
      "[2, 4, 6, 0, 3, 1, 7, 5]\n",
      "16\n",
      "[2, 4, 7, 3, 0, 6, 1, 5]\n",
      "17\n",
      "[2, 5, 1, 4, 7, 0, 6, 3]\n",
      "18\n",
      "[2, 5, 1, 6, 0, 3, 7, 4]\n",
      "19\n",
      "[2, 5, 1, 6, 4, 0, 7, 3]\n",
      "20\n",
      "[2, 5, 3, 0, 7, 4, 6, 1]\n",
      "21\n",
      "[2, 5, 3, 1, 7, 4, 6, 0]\n",
      "22\n",
      "[2, 5, 7, 0, 3, 6, 4, 1]\n",
      "23\n",
      "[2, 5, 7, 0, 4, 6, 1, 3]\n",
      "24\n",
      "[2, 5, 7, 1, 3, 0, 6, 4]\n",
      "25\n",
      "[2, 6, 1, 7, 4, 0, 3, 5]\n",
      "26\n",
      "[2, 6, 1, 7, 5, 3, 0, 4]\n",
      "27\n",
      "[2, 7, 3, 6, 0, 5, 1, 4]\n",
      "28\n",
      "[3, 0, 4, 7, 1, 6, 2, 5]\n",
      "29\n",
      "[3, 0, 4, 7, 5, 2, 6, 1]\n",
      "30\n",
      "[3, 1, 4, 7, 5, 0, 2, 6]\n",
      "31\n",
      "[3, 1, 6, 2, 5, 7, 0, 4]\n",
      "32\n",
      "[3, 1, 6, 2, 5, 7, 4, 0]\n",
      "33\n",
      "[3, 1, 6, 4, 0, 7, 5, 2]\n",
      "34\n",
      "[3, 1, 7, 4, 6, 0, 2, 5]\n",
      "35\n",
      "[3, 1, 7, 5, 0, 2, 4, 6]\n",
      "36\n",
      "[3, 5, 0, 4, 1, 7, 2, 6]\n",
      "37\n",
      "[3, 5, 7, 1, 6, 0, 2, 4]\n",
      "38\n",
      "[3, 5, 7, 2, 0, 6, 4, 1]\n",
      "39\n",
      "[3, 6, 0, 7, 4, 1, 5, 2]\n",
      "40\n",
      "[3, 6, 2, 7, 1, 4, 0, 5]\n",
      "41\n",
      "[3, 6, 4, 1, 5, 0, 2, 7]\n",
      "42\n",
      "[3, 6, 4, 2, 0, 5, 7, 1]\n",
      "43\n",
      "[3, 7, 0, 2, 5, 1, 6, 4]\n",
      "44\n",
      "[3, 7, 0, 4, 6, 1, 5, 2]\n",
      "45\n",
      "[3, 7, 4, 2, 0, 6, 1, 5]\n",
      "46\n",
      "[4, 0, 3, 5, 7, 1, 6, 2]\n",
      "47\n",
      "[4, 0, 7, 3, 1, 6, 2, 5]\n",
      "48\n",
      "[4, 0, 7, 5, 2, 6, 1, 3]\n",
      "49\n",
      "[4, 1, 3, 5, 7, 2, 0, 6]\n",
      "50\n",
      "[4, 1, 3, 6, 2, 7, 5, 0]\n",
      "51\n",
      "[4, 1, 5, 0, 6, 3, 7, 2]\n",
      "52\n",
      "[4, 1, 7, 0, 3, 6, 2, 5]\n",
      "53\n",
      "[4, 2, 0, 5, 7, 1, 3, 6]\n",
      "54\n",
      "[4, 2, 0, 6, 1, 7, 5, 3]\n",
      "55\n",
      "[4, 2, 7, 3, 6, 0, 5, 1]\n",
      "56\n",
      "[4, 6, 0, 2, 7, 5, 3, 1]\n",
      "57\n",
      "[4, 6, 0, 3, 1, 7, 5, 2]\n",
      "58\n",
      "[4, 6, 1, 3, 7, 0, 2, 5]\n",
      "59\n",
      "[4, 6, 1, 5, 2, 0, 3, 7]\n",
      "60\n",
      "[4, 6, 1, 5, 2, 0, 7, 3]\n",
      "61\n",
      "[4, 6, 3, 0, 2, 7, 5, 1]\n",
      "62\n",
      "[4, 7, 3, 0, 2, 5, 1, 6]\n",
      "63\n",
      "[4, 7, 3, 0, 6, 1, 5, 2]\n",
      "64\n",
      "[5, 0, 4, 1, 7, 2, 6, 3]\n",
      "65\n",
      "[5, 1, 6, 0, 2, 4, 7, 3]\n",
      "66\n",
      "[5, 1, 6, 0, 3, 7, 4, 2]\n",
      "67\n",
      "[5, 2, 0, 6, 4, 7, 1, 3]\n",
      "68\n",
      "[5, 2, 0, 7, 3, 1, 6, 4]\n",
      "69\n",
      "[5, 2, 0, 7, 4, 1, 3, 6]\n",
      "70\n",
      "[5, 2, 4, 6, 0, 3, 1, 7]\n",
      "71\n",
      "[5, 2, 4, 7, 0, 3, 1, 6]\n",
      "72\n",
      "[5, 2, 6, 1, 3, 7, 0, 4]\n",
      "73\n",
      "[5, 2, 6, 1, 7, 4, 0, 3]\n",
      "74\n",
      "[5, 2, 6, 3, 0, 7, 1, 4]\n",
      "75\n",
      "[5, 3, 0, 4, 7, 1, 6, 2]\n",
      "76\n",
      "[5, 3, 1, 7, 4, 6, 0, 2]\n",
      "77\n",
      "[5, 3, 6, 0, 2, 4, 1, 7]\n",
      "78\n",
      "[5, 3, 6, 0, 7, 1, 4, 2]\n",
      "79\n",
      "[5, 7, 1, 3, 0, 6, 4, 2]\n",
      "80\n",
      "[6, 0, 2, 7, 5, 3, 1, 4]\n",
      "81\n",
      "[6, 1, 3, 0, 7, 4, 2, 5]\n",
      "82\n",
      "[6, 1, 5, 2, 0, 3, 7, 4]\n",
      "83\n",
      "[6, 2, 0, 5, 7, 4, 1, 3]\n",
      "84\n",
      "[6, 2, 7, 1, 4, 0, 5, 3]\n",
      "85\n",
      "[6, 3, 1, 4, 7, 0, 2, 5]\n",
      "86\n",
      "[6, 3, 1, 7, 5, 0, 2, 4]\n",
      "87\n",
      "[6, 4, 2, 0, 5, 7, 1, 3]\n",
      "88\n",
      "[7, 1, 3, 0, 6, 4, 2, 5]\n",
      "89\n",
      "[7, 1, 4, 2, 0, 6, 3, 5]\n",
      "90\n",
      "[7, 2, 0, 5, 1, 4, 6, 3]\n",
      "91\n",
      "[7, 3, 0, 2, 5, 1, 6, 4]\n",
      "92\n"
     ]
    }
   ],
   "source": [
    "def can_be_extended_to_solution(perm):\n",
    "    i = len(perm) - 1\n",
    "    for j in range(i):\n",
    "        if i - j == abs(perm[i] - perm[j]):\n",
    "            return False\n",
    "    return True\n",
    "\n",
    "def extend(perm, n):\n",
    "    if len(perm) == n:\n",
    "        print(perm)\n",
    "        global a\n",
    "        a += 1\n",
    "        print(a)\n",
    "        # breakk\n",
    "        # raise ValueError('Done')\n",
    "    \n",
    "    for k in range(n):\n",
    "        if k not in perm:\n",
    "            perm.append(k)\n",
    "\n",
    "            if can_be_extended_to_solution(perm):\n",
    "                extend(perm, n)\n",
    "\n",
    "            perm.pop()\n",
    "a = 0\n",
    "extend(perm=[], n=8)"
   ]
  },
  {
   "cell_type": "code",
   "execution_count": null,
   "metadata": {},
   "outputs": [],
   "source": []
  },
  {
   "cell_type": "code",
   "execution_count": 5,
   "metadata": {},
   "outputs": [
    {
     "name": "stdout",
     "output_type": "stream",
     "text": [
      "[[1, 1, 1, '.', 0], ['.', '.', 1, '.', 0], [0, 0, '.', 0, 0], [0, '.', 1, '.', '.'], [0, '.', 1, 1, 1]]\n",
      "[[1, '.', 0, 0, 0], [1, '.', 0, '.', '.'], [1, 1, '.', 1, 1], ['.', '.', 0, '.', 1], [0, 0, 0, '.', 1]]\n"
     ]
    }
   ],
   "source": [
    "size = 5\n",
    "board = [['.'] * size for i in range(size)]\n",
    "\n",
    "def canPlace(p, i, j, board):\n",
    "    if p == 0:\n",
    "        if (j>0 and board[i][j-1] == 1 ) or (i>0 and board[i-1][j] == 1) or (i>0 and j>0 and board[i-1][j-1] == 0):\n",
    "            return False\n",
    "    if p == 1:\n",
    "        if (j>0 and board[i][j-1] == 0) or (i>0 and board[i-1][j] == 0) or (i>0 and j+1<size and board[i-1][j+1] == 1):\n",
    "            return False\n",
    "    return True\n",
    "\n",
    "\n",
    "\n",
    "def dfs(x, count):\n",
    "    if (size*size - x + 1) + count < 16:\n",
    "        return\n",
    "    if x == size*size:\n",
    "        if count == 16:\n",
    "            print(board)\n",
    "        return\n",
    "\n",
    "    i = x // size\n",
    "    j = x % size\n",
    "    if canPlace(0, i, j, board):\n",
    "        board[i][j] = 0\n",
    "        dfs(x+1, count+1)\n",
    "        board[i][j] = '.'\n",
    "    if canPlace(1, i, j, board):\n",
    "        board[i][j] = 1\n",
    "        dfs(x+1, count+1)\n",
    "        board[i][j] = '.'\n",
    "    dfs(x+1, count)\n",
    "\n",
    "dfs(0,0)\n"
   ]
  },
  {
   "cell_type": "code",
   "execution_count": null,
   "metadata": {},
   "outputs": [],
   "source": []
  }
 ],
 "metadata": {
  "kernelspec": {
   "display_name": "Python 3",
   "language": "python",
   "name": "python3"
  },
  "language_info": {
   "codemirror_mode": {
    "name": "ipython",
    "version": 3
   },
   "file_extension": ".py",
   "mimetype": "text/x-python",
   "name": "python",
   "nbconvert_exporter": "python",
   "pygments_lexer": "ipython3",
   "version": "3.11.4"
  },
  "orig_nbformat": 4
 },
 "nbformat": 4,
 "nbformat_minor": 2
}
