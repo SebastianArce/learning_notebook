{
 "cells": [
  {
   "attachments": {},
   "cell_type": "markdown",
   "metadata": {},
   "source": [
    "# The Bias-Variance Tradeoff\n",
    "- **Overfitting**: The function fits the training data noise. *high variance*\n",
    "    - To reduce:\n",
    "        - Add more data\n",
    "        - Decrease the model complexity (for example, max depth on a tree-based model)\n",
    "        - Include regularization\n",
    "- **Underfitting**: The function is not flexible enough. *high bias*\n",
    "    - To reduce:\n",
    "        - Gather more relevant features\n",
    "        - Increase model complexity\n",
    "- **Generalization error**: Does the function generalize well on unseen data? (bias + variance + noise). Our goal is to reduce this. \n",
    "    - Bias: error term that tells you, on average, how much our function != the real function (underfitting)\n",
    "    - Variance: error term that tells you how much our function is incosistent over different training sets. \n",
    "    - Irreducible error (noise)\n",
    "- **Model Complexity**: Sets the flexibility of f. \n",
    "\n",
    "![title](https://drive.google.com/uc?export=view&id=1ds_94hqDXU2238kV3Ye2zDzehjHiPjdY)\n",
    "\n",
    "## Diagnose bias and variance problems\n",
    "- **Cross Validation**: split the data into training and test data sets, and change the test set on each iteration (**K-Fold**)\n",
    "    - The error of the model equals the average error of all the K-Folds\n",
    "\n",
    "<br>\n",
    "\n",
    "***Most of the time, models are black boxes that suck in data and spit out accuracy numbers.*** - Mikian Musser\n",
    "\n",
    "\n",
    "\n",
    "\n"
   ]
  },
  {
   "cell_type": "code",
   "execution_count": 2,
   "metadata": {},
   "outputs": [
    {
     "name": "stderr",
     "output_type": "stream",
     "text": [
      "/Users/sebastian/.virtualenvs/aphrodite/lib/python3.7/site-packages/pandas/compat/_optional.py:138: UserWarning: Pandas requires version '2.7.0' or newer of 'numexpr' (version '2.6.9' currently installed).\n",
      "  warnings.warn(msg, UserWarning)\n"
     ]
    },
    {
     "name": "stdout",
     "output_type": "stream",
     "text": [
      "CV MSE: 18.78476949191765\n",
      "Train MSE: 17.548320360015627\n",
      "Test MSE: 20.21680313601966\n",
      "\n",
      "CONCLUSION: Given that the training error is smaller than the CV, and the test error is larger, we can deduce that the model is overfit\n"
     ]
    }
   ],
   "source": [
    "import pandas as pd\n",
    "from sklearn.tree import DecisionTreeRegressor\n",
    "from sklearn.model_selection import train_test_split, cross_val_score\n",
    "from sklearn.metrics import mean_squared_error as MSE \n",
    "\n",
    "# Seed for reproducible results\n",
    "seed = 123\n",
    "\n",
    "# Import data\n",
    "file1 = 'https://raw.githubusercontent.com/prince381/car_mpg_predict/master/cars1.csv'\n",
    "file2 = 'https://raw.githubusercontent.com/prince381/car_mpg_predict/master/cars2.csv'\n",
    "cars1 = pd.read_csv(file1).dropna(how='all', axis=1)\n",
    "cars2 = pd.read_csv(file2)  \n",
    "df = pd.concat([cars1, cars2], ignore_index=True, sort=False)\n",
    "\n",
    "# Split data\n",
    "X = df['displacement'].to_numpy().reshape(-1, 1)\n",
    "y = df['mpg'].to_numpy()\n",
    "X_train, X_test, y_train, y_test = train_test_split(X, y, test_size=0.3, random_state=seed)\n",
    "\n",
    "# Instatiate model\n",
    "dt = DecisionTreeRegressor(max_depth=4, min_samples_leaf=0.14, random_state=seed)\n",
    "\n",
    "# Evaluate the list of errors in a KF of 10\n",
    "mse_cv = - cross_val_score(dt, X_train, y_train, cv=10, scoring='neg_mean_squared_error')\n",
    "\n",
    "# Run on our model\n",
    "dt.fit(X_train, y_train)\n",
    "\n",
    "# Results\n",
    "y_pred_train = dt.predict(X_train)\n",
    "y_pred_test = dt.predict(X_test)\n",
    "\n",
    "# Compare results \n",
    "print(f\"CV MSE: {mse_cv.mean()}\")\n",
    "print(f\"Train MSE: {MSE(y_train, y_pred_train)}\")\n",
    "print(f\"Test MSE: {MSE(y_test, y_pred_test)}\")\n",
    "print()\n",
    "print(\"CONCLUSION: Given that the training error is smaller than the CV, and the test error is larger, we can deduce that the model is overfit\")"
   ]
  }
 ],
 "metadata": {
  "kernelspec": {
   "display_name": "aphrodite",
   "language": "python",
   "name": "python3"
  },
  "language_info": {
   "codemirror_mode": {
    "name": "ipython",
    "version": 3
   },
   "file_extension": ".py",
   "mimetype": "text/x-python",
   "name": "python",
   "nbconvert_exporter": "python",
   "pygments_lexer": "ipython3",
   "version": "3.7.10"
  },
  "orig_nbformat": 4
 },
 "nbformat": 4,
 "nbformat_minor": 2
}
