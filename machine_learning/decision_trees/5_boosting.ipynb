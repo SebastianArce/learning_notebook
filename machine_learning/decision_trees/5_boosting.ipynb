{
 "cells": [
  {
   "attachments": {},
   "cell_type": "markdown",
   "metadata": {},
   "source": [
    "# Boosting\n",
    "### Definition\n",
    "- Boosting refers to an ensemble method in which several models are trained sequentially with each model learning from the errors of its predecessors. \n",
    "- **Weak learner**: model doing slightly better than random guessing (example a CART whose maximum depth is 1)\n",
    "    - **Stump**: A tree with only one node and two leaves is called a stump. Stumps are not great at making classifications. \n",
    "        - In a forest of stumps made with Adaboost, some stumps have more weight on their vote than others (unlike a random forest)\n",
    "\n",
    "### Advantages\n",
    "- ***Boosting reduces bias, not variance. Thus, it tries to reduce the problem of underfitting the data.***\n",
    "\n",
    "### Types\n",
    "- **AdaBoost** (Adaptive Boosting): \n",
    "    - Combines a lot of 'weak learners' to make classifications.\n",
    "    - Linear, not in parallel\n",
    "        - The errors that the first tree makes influence how the second tree is made... and so on.\n",
    "    - Some trees have more weight on their vote than others\n",
    "    - **Steps**:\n",
    "        1. An equal weight is given to each sample (how important the sample is). \n",
    "        2. Make the first stump in the forest. \n",
    "            2.1 Find which feature gives the lower impurity (or gini index), to know which variable will be the node of the stump\n",
    "        3. ...hehe\n",
    "    - **Parameters**:\n",
    "        - Learning rate (between 0 and 1) - etha\n",
    "\n",
    "<br>\n",
    "\n",
    "- **Gradient Boosting**:\n",
    "    - Like AdaBoost, Gradient Boost builds fixed sized trees based on the previous tree's errors, but unlike AdaBoost, each tree can be larger than a stump\n",
    "    - Maximum number of leaves should be around 8 and 32 (of each decision tree)\n",
    "    - **Cons**:\n",
    "        - GB involves an exhaustive search procedure\n",
    "        - Each CART is trained to find the best split points and features\n",
    "        - May lead to CARTs using the same split points and maybe the same features\n",
    "        - Solution: Stochastic Gradient Boosting\n",
    "\n",
    "<br>\n",
    "\n",
    "![title](https://drive.google.com/uc?export=view&id=1nIJIe5xsAAoE2SR5VqET0HBzhMjxvZsu)\n"
   ]
  },
  {
   "attachments": {},
   "cell_type": "markdown",
   "metadata": {},
   "source": [
    "### AdaBoost Classification Example"
   ]
  },
  {
   "cell_type": "code",
   "execution_count": 5,
   "metadata": {},
   "outputs": [
    {
     "name": "stdout",
     "output_type": "stream",
     "text": [
      "ROC AUC Score: 0.9941588785046729\n"
     ]
    }
   ],
   "source": [
    "from sklearn.ensemble import AdaBoostClassifier\n",
    "from sklearn.tree import DecisionTreeClassifier\n",
    "from sklearn.metrics import roc_auc_score\n",
    "from sklearn.model_selection import train_test_split\n",
    "\n",
    "from sklearn.datasets import load_breast_cancer\n",
    "\n",
    "# Load data\n",
    "data = load_breast_cancer()\n",
    "X = data.data[:, :]\n",
    "y = data.target\n",
    "\n",
    "# Seed for reproducibility\n",
    "seed = 1\n",
    "\n",
    "# Split the data\n",
    "X_train, X_test, y_train, y_test = train_test_split(X, y, test_size=0.3, stratify=y, random_state=seed)\n",
    "\n",
    "# Instantiate a classification tree\n",
    "dt = DecisionTreeClassifier(max_depth=1, random_state=seed)\n",
    "\n",
    "# Instantiate an AdaBoost classifer\n",
    "adb_clf = AdaBoostClassifier(base_estimator=dt, n_estimators=100)\n",
    "\n",
    "# Fit model\n",
    "adb_clf.fit(X_train, y_train)\n",
    "\n",
    "# Predict the test set probabilities of a positive class\n",
    "y_pred_proba = adb_clf.predict_proba(X_test)[:,1]\n",
    "\n",
    "# Evaluate \n",
    "adb_roc_auc_score = roc_auc_score(y_test, y_pred_proba)\n",
    "print(f\"ROC AUC Score: {adb_roc_auc_score}\")"
   ]
  },
  {
   "attachments": {},
   "cell_type": "markdown",
   "metadata": {},
   "source": [
    "### Gradient Boosting Regression Example"
   ]
  },
  {
   "cell_type": "code",
   "execution_count": 8,
   "metadata": {},
   "outputs": [
    {
     "name": "stdout",
     "output_type": "stream",
     "text": [
      "Test set RMSE: 3.8167721913223183\n",
      "Test set STOCHASTIC: 3.7795402434726606\n"
     ]
    }
   ],
   "source": [
    "import pandas as pd\n",
    "from sklearn.ensemble import GradientBoostingRegressor\n",
    "from sklearn.model_selection import train_test_split\n",
    "from sklearn.metrics import mean_squared_error as MSE \n",
    "\n",
    "# Import data\n",
    "file1 = 'https://raw.githubusercontent.com/prince381/car_mpg_predict/master/cars1.csv'\n",
    "file2 = 'https://raw.githubusercontent.com/prince381/car_mpg_predict/master/cars2.csv'\n",
    "cars1 = pd.read_csv(file1).dropna(how='all', axis=1)\n",
    "cars2 = pd.read_csv(file2)  \n",
    "df = pd.concat([cars1, cars2], ignore_index=True, sort=False)\n",
    "\n",
    "# Split data\n",
    "seed = 1\n",
    "X = df[['displacement']].to_numpy().reshape(-1, 1)\n",
    "y = df['mpg'].to_numpy()\n",
    "X_train, X_test, y_train, y_test = train_test_split(X, y, test_size=0.3, random_state=seed)\n",
    "\n",
    "# Instantiate the model \n",
    "gbt = GradientBoostingRegressor(n_estimators=300, max_depth=1, random_state=1)\n",
    "\n",
    "# Fit the model\n",
    "gbt.fit(X_train, y_train)\n",
    "\n",
    "# Predict\n",
    "y_pred = gbt.predict(X_test)\n",
    "\n",
    "# Evaluate\n",
    "rmse_test = MSE(y_test, y_pred) ** (1/2)\n",
    "print(f\"Test set RMSE: {rmse_test}\")\n",
    "\n",
    "\n",
    "# STOCHASTIC GRADIENT BOOSTING EXAMPLE\n",
    "sgbt = GradientBoostingRegressor(max_depth=1, subsample=0.8, max_features=0.2, n_estimators=300, random_state=seed)\n",
    "sgbt.fit(X_train, y_train)\n",
    "y_sgbt_pred = sgbt.predict(X_test)\n",
    "rmse_sgbt = MSE(y_test, y_sgbt_pred) ** (1/2)\n",
    "print(f\"Test set STOCHASTIC: {rmse_sgbt}\")"
   ]
  },
  {
   "cell_type": "code",
   "execution_count": null,
   "metadata": {},
   "outputs": [],
   "source": []
  }
 ],
 "metadata": {
  "kernelspec": {
   "display_name": "aphrodite",
   "language": "python",
   "name": "python3"
  },
  "language_info": {
   "codemirror_mode": {
    "name": "ipython",
    "version": 3
   },
   "file_extension": ".py",
   "mimetype": "text/x-python",
   "name": "python",
   "nbconvert_exporter": "python",
   "pygments_lexer": "ipython3",
   "version": "3.7.10"
  },
  "orig_nbformat": 4
 },
 "nbformat": 4,
 "nbformat_minor": 2
}
