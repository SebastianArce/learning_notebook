{
 "cells": [
  {
   "cell_type": "markdown",
   "metadata": {},
   "source": [
    "# Extreme Gradient Boosting with XGBoost\n",
    "### Definition\n",
    "* Boosting converts a collection of weak learners into a strong learner. \n",
    "    * **weak learner**: ML algorithm that is slightly better than chance (>50%)\n",
    "* Boosting rounds: number of weak learners used by the meta-model. \n",
    "\n",
    "### How it works\n",
    "1. Iteratively learning a set of weak models on subsets of the data\n",
    "2. Weighing each weak prediction according to each weak learner's performance\n",
    "3. Combine the weighted predictinons to obtain a single weighted prediction \n",
    "4. ... that is much better than the individual predictions themselves! \n",
    "\n",
    "### Advantages\n",
    "* Speed and performance\n",
    "* Core algorithm is parallelizable (good for big data)\n",
    "* **Consistently outperforms single-algorithm methods**\n",
    "* State-of-the-art performance in many ML tasks\n",
    "\n",
    "### Cross-validation\n",
    "* Is a robust method for estimating the performance of a model on unseen data\n",
    "* Generates many non-overlapping train/test splits on training  data\n",
    "* Reports the average test set performance across all data splits\n",
    "\n",
    "### Common loss functions in XGBoost\n",
    "* Loss function names in xgboost:\n",
    "    *reg:linear - use for regression problems\n",
    "    *reg:logistic - use for classification problem when you want just decision, not probability\n",
    "    *binary:logistic - use when you want probability rather than just decision\n",
    "\n",
    "### Base learners\n",
    "* XGBoost involves creating a meta-model that is composed of many individual models that combine to give a final prediction\n",
    "    * Individual models = base learners\n",
    "    * Want base learners that when combined create final prediction that is non-linear\n",
    "    * Each base learner should be good at distinguishing or predicting different parts of the dataset\n",
    "    * Two kinds of base learners:\n",
    "        * tree\n",
    "        * linear\n",
    "\n",
    "\n",
    "### When to use XGBoost\n",
    "* You have a large number of training samples\n",
    "    * Greater than 1000 training samples and less 100 features\n",
    "    * The number of features < number of training samples\n",
    "* You have a mixture of categorical and numeric features\n",
    "    * Or just numeric features\n",
    "\n",
    "### When to NOT use XGBoost\n",
    "* All of these problems can be better tackled by Deep Learning\n",
    "    * Image recognition\n",
    "    * Computer vision\n",
    "    * NLP\n",
    "* Small datasets\n",
    "\n",
    "\n",
    "### Regularization in XGBoost\n",
    "* Regularization is a control on model complexity\n",
    "* Want models that are both accurate and as simple as possible\n",
    "* Regularization parameters in XGBoost: \n",
    "    * gamma - minimum loss reduction allowed for a split to occur\n",
    "    * alpha - l1 regularization on leaf weights, larger values mean more regularization (the larger it is, the more leaf weights go to zero)\n",
    "    * lambda - l2 regularization on leaf weights (smoother than l1)\n",
    "\n",
    "\n",
    "### XGBoost's Hyperparameters\n",
    "* learning rate: \n",
    "    - learning rate/eta\n",
    "* gamma:\n",
    "    - min loss reduction to create a new tree split \n",
    "* lambda: \n",
    "    - L2 reg on leaf weights\n",
    "* alpha:\n",
    "    - L1 reg on leaf weights\n",
    "* max_depth: \n",
    "    - max depth per tree\n",
    "* subsample: \n",
    "    - % samples used per tree\n",
    "* colsample_bytree: \n",
    "    - % features used per tree (used also as a kind of regularization)\n",
    "\n",
    "\n",
    "### Grid search and random search\n",
    "* Grid search: \n",
    "    - Search exhaustively over a goven set of hyperparameters.\n",
    "    - Number of models = number of distinct values per hyperparameter multiplied across each hyperparameter. \n",
    "    - Pick final model hyperparameter values that give best cross-validated evaluation metric value. \n",
    "\n",
    "* Random search: \n",
    "    - Set the number of iterations you would like for the random search to continue. \n",
    "    \n",
    "\n",
    "### Pipelines in \n"
   ]
  },
  {
   "cell_type": "code",
   "execution_count": 2,
   "metadata": {},
   "outputs": [],
   "source": [
    "import xgboost as xgb\n",
    "import pandas as pd\n",
    "import numpy as np\n",
    "from sklearn.model_selection import train_test_split"
   ]
  },
  {
   "cell_type": "markdown",
   "metadata": {},
   "source": [
    "## Classification: Simple workflow"
   ]
  },
  {
   "cell_type": "code",
   "execution_count": null,
   "metadata": {},
   "outputs": [],
   "source": [
    "# Import xgboost\n",
    "import xgboost as xgb\n",
    "\n",
    "# Create arrays for the features and the target: X, y\n",
    "X, y = churn_data.iloc[:,:-1], churn_data.iloc[:,-1]\n",
    "\n",
    "# Create the training and test sets\n",
    "X_train, X_test, y_train, y_test= train_test_split(X, y, test_size=0.2, random_state=123)\n",
    "\n",
    "# Instantiate the XGBClassifier: xg_cl\n",
    "xg_cl = xgb.XGBClassifier(objective='binary:logistic', n_estimators=10, seed=123)\n",
    "\n",
    "# Fit the classifier to the training set\n",
    "xg_cl.fit(X_train, y_train)\n",
    "\n",
    "# Predict the labels of the test set: preds\n",
    "preds = xg_cl.predict(X_test)\n",
    "\n",
    "# Compute the accuracy: accuracy\n",
    "accuracy = float(np.sum(preds==y_test))/y_test.shape[0]\n",
    "print(\"accuracy: %f\" % (accuracy))"
   ]
  },
  {
   "cell_type": "markdown",
   "metadata": {},
   "source": [
    "## Classification: Workflow with crossvalidation\n",
    "- XGBoost gets its lauded performance and efficiency gains by utilizing its own optimized data structure for datasets called a DMatrix.\n",
    "- In the previous exercise the input datasets were converted into DMatric data on the fly, but when CV you have to first explicitly convert your data into a DMatrix"
   ]
  },
  {
   "cell_type": "code",
   "execution_count": null,
   "metadata": {},
   "outputs": [],
   "source": [
    "# Create arrays for the features and the target: X, y\n",
    "X, y = churn_data.iloc[:,:-1], churn_data.iloc[:,-1]\n",
    "\n",
    "# Create the DMatrix from X and y: churn_dmatrix\n",
    "churn_dmatrix = xgb.DMatrix(data=X, label=y)\n",
    "\n",
    "# Create the parameter dictionary: params\n",
    "params = {\"objective\":\"reg:logistic\", \"max_depth\":3}\n",
    "\n",
    "# Perform cross-validation: cv_results\n",
    "cv_results = xgb.cv(dtrain=churn_dmatrix, params=params, \n",
    "                  nfold=3, num_boost_round=5, \n",
    "                  metrics=\"error\", # auc\n",
    "                  as_pandas=True, seed=123)\n",
    "\n",
    "# Print cv_results\n",
    "print(cv_results)\n",
    "\n",
    "# Print the accuracy\n",
    "print(((1-cv_results[\"test-error-mean\"]).iloc[-1]))"
   ]
  },
  {
   "cell_type": "markdown",
   "metadata": {},
   "source": [
    "cv_results stores the training and test mean and standard deviation of the error per boosting round (tree built) as a DataFrame. From cv_results, the final round 'test-error-mean' is extracted and converted into an accuracy, where accuracy is 1-error"
   ]
  },
  {
   "cell_type": "markdown",
   "metadata": {},
   "source": [
    "### Regression: Common workflow"
   ]
  },
  {
   "cell_type": "code",
   "execution_count": null,
   "metadata": {},
   "outputs": [],
   "source": [
    "# Create the training and test sets\n",
    "X_train, X_test, y_train, y_test = train_test_split(X, y, test_size=0.2, random_state=123)\n",
    "\n",
    "# Instantiate the XGBRegressor: xg_reg\n",
    "xg_reg = xgb.XGBRegressor(seed=123, objective='reg:linear', n_estimators=10)\n",
    "\n",
    "# Fit the regressor to the training set\n",
    "xg_reg.fit(X_train, y_train)\n",
    "\n",
    "# Predict the labels of the test set: preds\n",
    "preds = xg_reg.predict(X_test)\n",
    "\n",
    "# Compute the rmse: rmse\n",
    "rmse = np.sqrt(mean_squared_error(preds, y_test))\n",
    "print(\"RMSE: %f\" % (rmse))"
   ]
  },
  {
   "cell_type": "markdown",
   "metadata": {},
   "source": [
    "### L1 regularizaiton in XGBoost example"
   ]
  },
  {
   "cell_type": "code",
   "execution_count": null,
   "metadata": {},
   "outputs": [],
   "source": [
    "import xgboost as xgb\n",
    "import pandas as pd\n",
    "\n",
    "boston_data = pd.read_csv('boston_data.csv')\n",
    "X, y = boston_data.iloc[:, :-1], boston_data.iloc[:, -1]\n",
    "\n",
    "boston_dmatrix = xgb.DMatrix(data=X, label=y)\n",
    "params = {\"objective\": \"reg:linear\", \"max_depth\": 4}\n",
    "\n",
    "l1_params = [1, 10, 100]\n",
    "rmses_l1 = []\n",
    "\n",
    "for reg in l1_params:\n",
    "    params['alpha'] = reg\n",
    "    cv_results = xgb.cv(dtrain=boston_dmatrix, params=params, nfold=4, \n",
    "                        num_boost_round=10, metrics='rmse', as_pandas=True, \n",
    "                        seed=123)\n",
    "    rmses_l1.append(cv_results['test-rmse-mean'].tail(1).values[0])\n",
    "\n"
   ]
  },
  {
   "cell_type": "markdown",
   "metadata": {},
   "source": [
    "### Visualizing individual trees in the XGBoost model"
   ]
  },
  {
   "cell_type": "code",
   "execution_count": null,
   "metadata": {},
   "outputs": [],
   "source": [
    "# Create the DMatrix: housing_dmatrix\n",
    "housing_dmatrix = xgb.DMatrix(data=X, label=y)\n",
    "\n",
    "# Create the parameter dictionary: params\n",
    "params = {\"objective\":\"reg:linear\", \"max_depth\":2}\n",
    "\n",
    "# Train the model: xg_reg\n",
    "xg_reg = xgb.train(params=params, dtrain=housing_dmatrix, num_boost_round=10)\n",
    "\n",
    "# Plot the first tree\n",
    "xgb.plot_tree(xg_reg, num_trees=0)\n",
    "plt.show()\n",
    "\n",
    "# Plot the fifth tree\n",
    "xgb.plot_tree(xg_reg, num_trees=4)\n",
    "plt.show()\n",
    "\n",
    "# Plot the last tree sideways\n",
    "xgb.plot_tree(xg_reg, num_trees=9, rankdir=\"LR\")\n",
    "plt.show()"
   ]
  },
  {
   "cell_type": "markdown",
   "metadata": {},
   "source": [
    "### Feature importance in XGBoost"
   ]
  },
  {
   "cell_type": "code",
   "execution_count": null,
   "metadata": {},
   "outputs": [],
   "source": [
    "# Create the DMatrix: housing_dmatrix\n",
    "housing_dmatrix = xgb.DMatrix(data=X, label=y)\n",
    "\n",
    "# Create the parameter dictionary: params\n",
    "params = {\"objective\": \"reg:linear\", \"max_depth\": 4}\n",
    "\n",
    "# Train the model: xg_reg\n",
    "xg_reg = xgb.train(params=params, dtrain=housing_dmatrix, num_boost_round=10)\n",
    "\n",
    "# Plot the feature importances\n",
    "xgb.plot_importance(xg_reg)\n",
    "plt.show()"
   ]
  },
  {
   "cell_type": "markdown",
   "metadata": {},
   "source": [
    "### Tune model example"
   ]
  },
  {
   "cell_type": "code",
   "execution_count": null,
   "metadata": {},
   "outputs": [],
   "source": [
    "import pandas as pd\n",
    "import xgboost as xgb\n",
    "import numpy as np\n",
    "\n",
    "housing_data = pd.read_csv('blah.csv')\n",
    "X, y = housing_data.iloc[:, :-1], housing_data.iloc[:, -1]\n",
    "housing_dmatrix = xgb.DMatrix(data=X, label=y)\n",
    "\n",
    "tuned_params = {\n",
    "    \"objective\": \"reg:linear\", \n",
    "    \"colsample_bytree\": 0.3,\n",
    "    \"learning_rate\": 0.1, \n",
    "    \"max_depth\": 5\n",
    "}\n",
    "\n",
    "tuned_cv_results_rmse = xgb.cv(dtrain=housing_dmatrix, params=tuned_params, nfold=4, num_boost_round=200, metrics='rmse',\n",
    "                               as_pandas=True, seed=123)\n",
    "\n",
    "print(f\"Tuned rmse {tuned_cv_results_rmse['test-rmse-mean'].tail(1)}\")"
   ]
  },
  {
   "cell_type": "markdown",
   "metadata": {},
   "source": [
    "### Automate boosting round selection: \n",
    "Instead of cherry picking the best number of boosting rounds, automatically stop when the metric does not improve significantly."
   ]
  },
  {
   "cell_type": "markdown",
   "metadata": {},
   "source": []
  },
  {
   "cell_type": "code",
   "execution_count": null,
   "metadata": {},
   "outputs": [],
   "source": [
    "# Create your housing DMatrix: housing_dmatrix\n",
    "housing_dmatrix = xgb.DMatrix(data=X, label=y)\n",
    "\n",
    "# Create the parameter dictionary for each tree: params\n",
    "params = {\"objective\":\"reg:linear\", \"max_depth\":4}\n",
    "\n",
    "# Perform cross-validation with early stopping: cv_results\n",
    "cv_results = xgb.cv(dtrain=housing_dmatrix, params=params, nfold=3, metrics='rmse', seed=123, as_pandas=True, early_stopping_rounds=10, num_boost_round=50)\n",
    "\n",
    "# Print cv_results\n",
    "print(cv_results)"
   ]
  },
  {
   "cell_type": "markdown",
   "metadata": {},
   "source": [
    "### Grid Search example"
   ]
  },
  {
   "cell_type": "code",
   "execution_count": null,
   "metadata": {},
   "outputs": [],
   "source": [
    "import pandas as pd\n",
    "import numpy as np\n",
    "import xgboost as xgb\n",
    "from sklearn.model_selection import GridSearchCV\n",
    "\n",
    "housing_data = pd.read_csv(\"data.csv\")\n",
    "X, y = housing_data.iloc[:, :-1], housing_data.iloc[:, -1]\n",
    "housing_dmatrix = xgb.DMatrix(data=X, label=y)\n",
    "\n",
    "gbm_param_grid = {\n",
    "    \"learning_rate\": [0.01, 0.1, 0.5, 0.9],\n",
    "    \"n_estimators\": [200],\n",
    "    \"subsample\": [0.3, 0.5, 0.9]\n",
    "}\n",
    "\n",
    "gbm = xgb.XGBRegressor()\n",
    "grid_mse = GridSearchCV(estimator=gbm, param_grid=gbm_param_grid, \n",
    "                        scoring='neg_mean_squared_error', cv=4, verbose=1)\n",
    "grid_mse.fit(X, y)\n",
    "\n",
    "print(\"Best parameters found: \", grid_mse.best_params_)\n",
    "print(\"Lower RMSE found: \", np.sqrt(np.abs(grid_mse.best_score_)))"
   ]
  },
  {
   "cell_type": "markdown",
   "metadata": {},
   "source": [
    "### Random search example"
   ]
  },
  {
   "cell_type": "code",
   "execution_count": null,
   "metadata": {},
   "outputs": [],
   "source": [
    "import pandas as pd\n",
    "import xgboost as xgb\n",
    "import numpy as np\n",
    "from sklearn.model_selection import RandomizedSearchCV\n",
    "\n",
    "housing_data = pd.read_csv('data.csv')\n",
    "\n",
    "X, y = housing_data.iloc[:, :-1], housing_data.iloc[:, -1]\n",
    "housing_dmatrix = xgb.DMatrix(data=X, label=y)\n",
    "\n",
    "gbm_param_grid = {\n",
    "    \"learning_rate\": np.arange(0.05, 1.05, 0.05),\n",
    "    \"n_estimators\": [200],\n",
    "    \"subsample\": np.arange(0.05, 1.05, .05)\n",
    "}\n",
    "\n",
    "gbm = xgb.XGBRegressor()\n",
    "randomized_mse = RandomizedSearchCV(estimator=gbm, param_distributions=gbm_param_grid,\n",
    "                                    n_iter=25, scoring='neg_mean_squared_error',\n",
    "                                    cv=4, verbose=1)\n",
    "randomized_mse.fit(X, y)\n",
    "\n",
    "print(\"Best parameters found: \", randomized_mse.best_params_)\n",
    "print(\"Lower RMSE found: \", np.sqrt(np.abs(randomized_mse.best_score_)))"
   ]
  },
  {
   "cell_type": "markdown",
   "metadata": {},
   "source": [
    "### Pipeline"
   ]
  },
  {
   "cell_type": "code",
   "execution_count": null,
   "metadata": {},
   "outputs": [],
   "source": [
    "import pandas as pd\n",
    "import numpy as np\n",
    "\n",
    "from sklearn.ensemble import RandomForestRegressor\n",
    "from sklearn.preprocessing import StandardScaler\n",
    "from sklearn.pipeline import Pipeline\n",
    "from sklearn.model_selection import cross_val_score\n",
    "\n",
    "names = ['crime', 'zone', 'industry', 'charles', 'no', 'rooms', 'age', 'distance', \n",
    "         'radial', 'tax', 'pupil', 'aam', 'lower', 'med_price']\n",
    "\n",
    "data = pd.read_csv('boston_housing.csv', names=names)\n",
    "\n",
    "X, y = data.iloc[:, :-1], data.iloc[:, -1]\n",
    "\n",
    "rf_pipeline = Pipeline[\n",
    "    ('st_scaler', StandardScaler()),\n",
    "    ('rf_model', RandomForestRegressor())]\n",
    "\n",
    "scores = cross_val_score(rf_pipeline, X, y, \n",
    "                         scoring='neg_mean_squared_error', cv=10)\n",
    "\n",
    "\n",
    "final_avg_rmse = np.mean(np.sqrt(np.abs(scores)))\n",
    "\n",
    "print(\"Final RMSE: \", final_avg_rmse)"
   ]
  }
 ],
 "metadata": {
  "kernelspec": {
   "display_name": "aphrodite",
   "language": "python",
   "name": "python3"
  },
  "language_info": {
   "codemirror_mode": {
    "name": "ipython",
    "version": 3
   },
   "file_extension": ".py",
   "mimetype": "text/x-python",
   "name": "python",
   "nbconvert_exporter": "python",
   "pygments_lexer": "ipython3",
   "version": "3.7.10"
  },
  "orig_nbformat": 4
 },
 "nbformat": 4,
 "nbformat_minor": 2
}
